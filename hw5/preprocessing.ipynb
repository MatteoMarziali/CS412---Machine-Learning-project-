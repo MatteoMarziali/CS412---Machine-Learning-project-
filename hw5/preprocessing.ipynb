{
 "cells": [
  {
   "cell_type": "code",
   "execution_count": 1,
   "metadata": {},
   "outputs": [],
   "source": [
    "import pandas as pd\n",
    "import numpy as np\n",
    "import matplotlib.pyplot as plt\n",
    "import seaborn as sns\n"
   ]
  },
  {
   "cell_type": "code",
   "execution_count": 2,
   "metadata": {},
   "outputs": [
    {
     "data": {
      "text/html": [
       "<div>\n",
       "<style scoped>\n",
       "    .dataframe tbody tr th:only-of-type {\n",
       "        vertical-align: middle;\n",
       "    }\n",
       "\n",
       "    .dataframe tbody tr th {\n",
       "        vertical-align: top;\n",
       "    }\n",
       "\n",
       "    .dataframe thead th {\n",
       "        text-align: right;\n",
       "    }\n",
       "</style>\n",
       "<table border=\"1\" class=\"dataframe\">\n",
       "  <thead>\n",
       "    <tr style=\"text-align: right;\">\n",
       "      <th></th>\n",
       "      <th>Music</th>\n",
       "      <th>Slow songs or fast songs</th>\n",
       "      <th>Dance</th>\n",
       "      <th>Folk</th>\n",
       "      <th>Country</th>\n",
       "      <th>Classical music</th>\n",
       "      <th>Musical</th>\n",
       "      <th>Pop</th>\n",
       "      <th>Rock</th>\n",
       "      <th>Metal or Hardrock</th>\n",
       "      <th>...</th>\n",
       "      <th>Age</th>\n",
       "      <th>Height</th>\n",
       "      <th>Weight</th>\n",
       "      <th>Number of siblings</th>\n",
       "      <th>Gender</th>\n",
       "      <th>Left - right handed</th>\n",
       "      <th>Education</th>\n",
       "      <th>Only child</th>\n",
       "      <th>Village - town</th>\n",
       "      <th>House - block of flats</th>\n",
       "    </tr>\n",
       "  </thead>\n",
       "  <tbody>\n",
       "    <tr>\n",
       "      <th>0</th>\n",
       "      <td>5.0</td>\n",
       "      <td>3.0</td>\n",
       "      <td>2.0</td>\n",
       "      <td>1.0</td>\n",
       "      <td>2.0</td>\n",
       "      <td>2.0</td>\n",
       "      <td>1.0</td>\n",
       "      <td>5.0</td>\n",
       "      <td>5.0</td>\n",
       "      <td>1.0</td>\n",
       "      <td>...</td>\n",
       "      <td>20.0</td>\n",
       "      <td>163.0</td>\n",
       "      <td>48.0</td>\n",
       "      <td>1.0</td>\n",
       "      <td>female</td>\n",
       "      <td>right handed</td>\n",
       "      <td>college/bachelor degree</td>\n",
       "      <td>no</td>\n",
       "      <td>village</td>\n",
       "      <td>block of flats</td>\n",
       "    </tr>\n",
       "    <tr>\n",
       "      <th>1</th>\n",
       "      <td>4.0</td>\n",
       "      <td>4.0</td>\n",
       "      <td>2.0</td>\n",
       "      <td>1.0</td>\n",
       "      <td>1.0</td>\n",
       "      <td>1.0</td>\n",
       "      <td>2.0</td>\n",
       "      <td>3.0</td>\n",
       "      <td>5.0</td>\n",
       "      <td>4.0</td>\n",
       "      <td>...</td>\n",
       "      <td>19.0</td>\n",
       "      <td>163.0</td>\n",
       "      <td>58.0</td>\n",
       "      <td>2.0</td>\n",
       "      <td>female</td>\n",
       "      <td>right handed</td>\n",
       "      <td>college/bachelor degree</td>\n",
       "      <td>no</td>\n",
       "      <td>city</td>\n",
       "      <td>block of flats</td>\n",
       "    </tr>\n",
       "    <tr>\n",
       "      <th>2</th>\n",
       "      <td>5.0</td>\n",
       "      <td>5.0</td>\n",
       "      <td>2.0</td>\n",
       "      <td>2.0</td>\n",
       "      <td>3.0</td>\n",
       "      <td>4.0</td>\n",
       "      <td>5.0</td>\n",
       "      <td>3.0</td>\n",
       "      <td>5.0</td>\n",
       "      <td>3.0</td>\n",
       "      <td>...</td>\n",
       "      <td>20.0</td>\n",
       "      <td>176.0</td>\n",
       "      <td>67.0</td>\n",
       "      <td>2.0</td>\n",
       "      <td>female</td>\n",
       "      <td>right handed</td>\n",
       "      <td>secondary school</td>\n",
       "      <td>no</td>\n",
       "      <td>city</td>\n",
       "      <td>block of flats</td>\n",
       "    </tr>\n",
       "    <tr>\n",
       "      <th>3</th>\n",
       "      <td>5.0</td>\n",
       "      <td>3.0</td>\n",
       "      <td>2.0</td>\n",
       "      <td>1.0</td>\n",
       "      <td>1.0</td>\n",
       "      <td>1.0</td>\n",
       "      <td>1.0</td>\n",
       "      <td>2.0</td>\n",
       "      <td>2.0</td>\n",
       "      <td>1.0</td>\n",
       "      <td>...</td>\n",
       "      <td>22.0</td>\n",
       "      <td>172.0</td>\n",
       "      <td>59.0</td>\n",
       "      <td>1.0</td>\n",
       "      <td>female</td>\n",
       "      <td>right handed</td>\n",
       "      <td>college/bachelor degree</td>\n",
       "      <td>yes</td>\n",
       "      <td>city</td>\n",
       "      <td>house/bungalow</td>\n",
       "    </tr>\n",
       "    <tr>\n",
       "      <th>4</th>\n",
       "      <td>5.0</td>\n",
       "      <td>3.0</td>\n",
       "      <td>4.0</td>\n",
       "      <td>3.0</td>\n",
       "      <td>2.0</td>\n",
       "      <td>4.0</td>\n",
       "      <td>3.0</td>\n",
       "      <td>5.0</td>\n",
       "      <td>3.0</td>\n",
       "      <td>1.0</td>\n",
       "      <td>...</td>\n",
       "      <td>20.0</td>\n",
       "      <td>170.0</td>\n",
       "      <td>59.0</td>\n",
       "      <td>1.0</td>\n",
       "      <td>female</td>\n",
       "      <td>right handed</td>\n",
       "      <td>secondary school</td>\n",
       "      <td>no</td>\n",
       "      <td>village</td>\n",
       "      <td>house/bungalow</td>\n",
       "    </tr>\n",
       "  </tbody>\n",
       "</table>\n",
       "<p>5 rows × 150 columns</p>\n",
       "</div>"
      ],
      "text/plain": [
       "   Music  Slow songs or fast songs  Dance  Folk  Country  Classical music  \\\n",
       "0    5.0                       3.0    2.0   1.0      2.0              2.0   \n",
       "1    4.0                       4.0    2.0   1.0      1.0              1.0   \n",
       "2    5.0                       5.0    2.0   2.0      3.0              4.0   \n",
       "3    5.0                       3.0    2.0   1.0      1.0              1.0   \n",
       "4    5.0                       3.0    4.0   3.0      2.0              4.0   \n",
       "\n",
       "   Musical  Pop  Rock  Metal or Hardrock           ...             Age  \\\n",
       "0      1.0  5.0   5.0                1.0           ...            20.0   \n",
       "1      2.0  3.0   5.0                4.0           ...            19.0   \n",
       "2      5.0  3.0   5.0                3.0           ...            20.0   \n",
       "3      1.0  2.0   2.0                1.0           ...            22.0   \n",
       "4      3.0  5.0   3.0                1.0           ...            20.0   \n",
       "\n",
       "   Height  Weight  Number of siblings  Gender  Left - right handed  \\\n",
       "0   163.0    48.0                 1.0  female         right handed   \n",
       "1   163.0    58.0                 2.0  female         right handed   \n",
       "2   176.0    67.0                 2.0  female         right handed   \n",
       "3   172.0    59.0                 1.0  female         right handed   \n",
       "4   170.0    59.0                 1.0  female         right handed   \n",
       "\n",
       "                 Education  Only child  Village - town  House - block of flats  \n",
       "0  college/bachelor degree          no         village          block of flats  \n",
       "1  college/bachelor degree          no            city          block of flats  \n",
       "2         secondary school          no            city          block of flats  \n",
       "3  college/bachelor degree         yes            city          house/bungalow  \n",
       "4         secondary school          no         village          house/bungalow  \n",
       "\n",
       "[5 rows x 150 columns]"
      ]
     },
     "execution_count": 2,
     "metadata": {},
     "output_type": "execute_result"
    }
   ],
   "source": [
    "print(\"loading dataset..\")\n",
    "dataset = pd.read_csv('./young-people-survey/responses.csv')\n",
    "dataset.head()"
   ]
  },
  {
   "cell_type": "code",
   "execution_count": 3,
   "metadata": {},
   "outputs": [
    {
     "name": "stdout",
     "output_type": "stream",
     "text": [
      "values for Smoking:\n",
      "['never smoked' 'tried smoking' 'former smoker' 'current smoker' nan]\n",
      "values for Alcohol:\n",
      "['drink a lot' 'social drinker' 'never' nan]\n",
      "values for Punctuality:\n",
      "['i am always on time' 'i am often early' 'i am often running late' nan]\n",
      "values for Lying:\n",
      "['never' 'sometimes' 'only to avoid hurting someone'\n",
      " 'everytime it suits me' nan]\n",
      "values for Internet usage:\n",
      "['few hours a day' 'most of the day' 'less than an hour a day'\n",
      " 'no time at all']\n",
      "values for Gender:\n",
      "['female' 'male' nan]\n",
      "values for Education:\n",
      "['college/bachelor degree' 'secondary school' 'primary school'\n",
      " 'masters degree' 'doctorate degree' 'currently a primary school pupil'\n",
      " nan]\n",
      "values for Only child:\n",
      "['no' 'yes' nan]\n",
      "values for left - right handed:\n",
      "['right handed' 'left handed' nan]\n",
      "values for Village - town:\n",
      "['village' 'city' nan]\n",
      "values for House - block of flats:\n",
      "['block of flats' 'house/bungalow' nan]\n"
     ]
    }
   ],
   "source": [
    "print(\"values for Smoking:\")\n",
    "print(dataset.Smoking.unique())\n",
    "print(\"values for Alcohol:\")\n",
    "print(dataset.Alcohol.unique())\n",
    "print(\"values for Punctuality:\")\n",
    "print(dataset.Punctuality.unique())\n",
    "print(\"values for Lying:\")\n",
    "print(dataset.Lying.unique())\n",
    "print(\"values for Internet usage:\")\n",
    "print(dataset['Internet usage'].unique())\n",
    "print(\"values for Gender:\")\n",
    "print(dataset.Gender.unique())\n",
    "print(\"values for Education:\")\n",
    "print(dataset.Education.unique())\n",
    "print(\"values for Only child:\")\n",
    "print(dataset['Only child'].unique())\n",
    "print(\"values for left - right handed:\")\n",
    "print(dataset['Left - right handed'].unique())\n",
    "print(\"values for Village - town:\")\n",
    "print(dataset['Village - town'].unique())\n",
    "print(\"values for House - block of flats:\")\n",
    "print(dataset['House - block of flats'].unique())"
   ]
  },
  {
   "cell_type": "markdown",
   "metadata": {},
   "source": [
    "## Feature exploration"
   ]
  },
  {
   "cell_type": "markdown",
   "metadata": {},
   "source": [
    "Let's see if, considering features with strings value, they have very rare values that we can merge together, or let's see how the age values are distributed and if it makes sense to encode them in a certain way."
   ]
  },
  {
   "cell_type": "code",
   "execution_count": 4,
   "metadata": {},
   "outputs": [
    {
     "data": {
      "text/plain": [
       "tried smoking     430\n",
       "never smoked      208\n",
       "current smoker    189\n",
       "former smoker     175\n",
       "Name: Smoking, dtype: int64"
      ]
     },
     "execution_count": 4,
     "metadata": {},
     "output_type": "execute_result"
    }
   ],
   "source": [
    "pd.value_counts(dataset.Smoking)"
   ]
  },
  {
   "cell_type": "code",
   "execution_count": 5,
   "metadata": {},
   "outputs": [
    {
     "data": {
      "text/plain": [
       "social drinker    659\n",
       "drink a lot       222\n",
       "never             124\n",
       "Name: Alcohol, dtype: int64"
      ]
     },
     "execution_count": 5,
     "metadata": {},
     "output_type": "execute_result"
    }
   ],
   "source": [
    "pd.value_counts(dataset.Alcohol)"
   ]
  },
  {
   "cell_type": "code",
   "execution_count": 6,
   "metadata": {},
   "outputs": [
    {
     "data": {
      "text/plain": [
       "sometimes                        549\n",
       "only to avoid hurting someone    270\n",
       "everytime it suits me            138\n",
       "never                             51\n",
       "Name: Lying, dtype: int64"
      ]
     },
     "execution_count": 6,
     "metadata": {},
     "output_type": "execute_result"
    }
   ],
   "source": [
    "pd.value_counts(dataset.Lying)"
   ]
  },
  {
   "cell_type": "code",
   "execution_count": 7,
   "metadata": {},
   "outputs": [
    {
     "data": {
      "text/plain": [
       "i am always on time        399\n",
       "i am often early           327\n",
       "i am often running late    282\n",
       "Name: Punctuality, dtype: int64"
      ]
     },
     "execution_count": 7,
     "metadata": {},
     "output_type": "execute_result"
    }
   ],
   "source": [
    "pd.value_counts(dataset.Punctuality)"
   ]
  },
  {
   "cell_type": "code",
   "execution_count": 8,
   "metadata": {},
   "outputs": [
    {
     "data": {
      "text/plain": [
       "secondary school                    621\n",
       "college/bachelor degree             212\n",
       "masters degree                       81\n",
       "primary school                       80\n",
       "currently a primary school pupil     10\n",
       "doctorate degree                      5\n",
       "Name: Education, dtype: int64"
      ]
     },
     "execution_count": 8,
     "metadata": {},
     "output_type": "execute_result"
    }
   ],
   "source": [
    "pd.value_counts(dataset.Education)"
   ]
  },
  {
   "cell_type": "markdown",
   "metadata": {},
   "source": [
    "given this, we can merge currently a primary school pupil with primary school, also looking the Age Column cannot be persons that are currently doing the primary school, considering that the youngest are 15.\n",
    "We cannot delete 10 rows of the dataset, even if we have to take into account that these rows can possibly contain more mistakes. "
   ]
  },
  {
   "cell_type": "code",
   "execution_count": 9,
   "metadata": {},
   "outputs": [
    {
     "data": {
      "text/plain": [
       "few hours a day            744\n",
       "less than an hour a day    139\n",
       "most of the day            124\n",
       "no time at all               3\n",
       "Name: Internet usage, dtype: int64"
      ]
     },
     "execution_count": 9,
     "metadata": {},
     "output_type": "execute_result"
    }
   ],
   "source": [
    "pd.value_counts(dataset['Internet usage'])"
   ]
  },
  {
   "cell_type": "code",
   "execution_count": 10,
   "metadata": {},
   "outputs": [
    {
     "data": {
      "text/plain": [
       "19.0    210\n",
       "20.0    194\n",
       "21.0    127\n",
       "18.0    123\n",
       "22.0     84\n",
       "17.0     53\n",
       "23.0     47\n",
       "25.0     30\n",
       "16.0     29\n",
       "24.0     28\n",
       "28.0     17\n",
       "26.0     15\n",
       "27.0     14\n",
       "29.0     11\n",
       "15.0     11\n",
       "30.0     10\n",
       "Name: Age, dtype: int64"
      ]
     },
     "execution_count": 10,
     "metadata": {},
     "output_type": "execute_result"
    }
   ],
   "source": [
    "pd.value_counts(dataset.Age)"
   ]
  },
  {
   "cell_type": "markdown",
   "metadata": {},
   "source": [
    "As we can see from Ages values, is not possible to have someone that is currently a primary school pupil, can this is an error?"
   ]
  },
  {
   "cell_type": "code",
   "execution_count": 11,
   "metadata": {},
   "outputs": [
    {
     "data": {
      "text/plain": [
       "60.0     76\n",
       "55.0     62\n",
       "70.0     51\n",
       "80.0     50\n",
       "65.0     49\n",
       "75.0     41\n",
       "50.0     41\n",
       "58.0     31\n",
       "57.0     31\n",
       "53.0     28\n",
       "63.0     28\n",
       "62.0     26\n",
       "54.0     25\n",
       "52.0     23\n",
       "68.0     23\n",
       "56.0     22\n",
       "48.0     21\n",
       "85.0     20\n",
       "78.0     19\n",
       "67.0     18\n",
       "64.0     18\n",
       "90.0     17\n",
       "72.0     16\n",
       "83.0     15\n",
       "76.0     15\n",
       "77.0     15\n",
       "51.0     14\n",
       "49.0     13\n",
       "74.0     12\n",
       "73.0     11\n",
       "         ..\n",
       "61.0      7\n",
       "79.0      6\n",
       "95.0      5\n",
       "45.0      5\n",
       "92.0      5\n",
       "89.0      5\n",
       "46.0      5\n",
       "86.0      4\n",
       "120.0     3\n",
       "96.0      3\n",
       "44.0      3\n",
       "87.0      3\n",
       "98.0      3\n",
       "93.0      3\n",
       "100.0     3\n",
       "91.0      2\n",
       "97.0      2\n",
       "43.0      2\n",
       "113.0     1\n",
       "99.0      1\n",
       "125.0     1\n",
       "150.0     1\n",
       "111.0     1\n",
       "42.0      1\n",
       "110.0     1\n",
       "105.0     1\n",
       "101.0     1\n",
       "41.0      1\n",
       "103.0     1\n",
       "165.0     1\n",
       "Name: Weight, Length: 69, dtype: int64"
      ]
     },
     "execution_count": 11,
     "metadata": {},
     "output_type": "execute_result"
    }
   ],
   "source": [
    "pd.value_counts(dataset.Weight)"
   ]
  },
  {
   "cell_type": "markdown",
   "metadata": {},
   "source": [
    "165.0 and 150.0 are clearly outliers, maybe they can be heights instead of weights,I want to remove them as may be wrong"
   ]
  },
  {
   "cell_type": "code",
   "execution_count": 12,
   "metadata": {},
   "outputs": [],
   "source": [
    "dataset = dataset[dataset.Weight != 150.0]\n",
    "dataset = dataset[dataset.Weight != 165.0]"
   ]
  },
  {
   "cell_type": "code",
   "execution_count": 13,
   "metadata": {},
   "outputs": [
    {
     "data": {
      "text/plain": [
       "170.0    86\n",
       "168.0    62\n",
       "175.0    56\n",
       "180.0    55\n",
       "165.0    54\n",
       "185.0    43\n",
       "178.0    43\n",
       "173.0    41\n",
       "172.0    38\n",
       "163.0    34\n",
       "167.0    29\n",
       "160.0    28\n",
       "183.0    24\n",
       "171.0    23\n",
       "164.0    23\n",
       "176.0    22\n",
       "182.0    22\n",
       "162.0    20\n",
       "169.0    19\n",
       "187.0    19\n",
       "184.0    19\n",
       "174.0    19\n",
       "177.0    18\n",
       "166.0    18\n",
       "190.0    17\n",
       "186.0    16\n",
       "189.0    15\n",
       "158.0    15\n",
       "188.0    13\n",
       "179.0    13\n",
       "161.0    10\n",
       "192.0     9\n",
       "181.0     9\n",
       "157.0     9\n",
       "193.0     8\n",
       "156.0     5\n",
       "159.0     5\n",
       "155.0     5\n",
       "195.0     4\n",
       "194.0     4\n",
       "153.0     3\n",
       "154.0     3\n",
       "200.0     2\n",
       "191.0     2\n",
       "197.0     2\n",
       "203.0     2\n",
       "148.0     1\n",
       "152.0     1\n",
       "62.0      1\n",
       "Name: Height, dtype: int64"
      ]
     },
     "execution_count": 13,
     "metadata": {},
     "output_type": "execute_result"
    }
   ],
   "source": [
    "pd.value_counts(dataset.Height)"
   ]
  },
  {
   "cell_type": "markdown",
   "metadata": {},
   "source": [
    "62.0 is clearly an outlier, maybe is it a weight instead of a height, I want to remove it as may be wrong."
   ]
  },
  {
   "cell_type": "code",
   "execution_count": 14,
   "metadata": {},
   "outputs": [],
   "source": [
    "dataset = dataset[dataset.Height != 62.0]"
   ]
  },
  {
   "cell_type": "code",
   "execution_count": null,
   "metadata": {},
   "outputs": [],
   "source": [
    "print(\"deleting noisy examples..\")"
   ]
  },
  {
   "cell_type": "code",
   "execution_count": 15,
   "metadata": {},
   "outputs": [
    {
     "data": {
      "text/plain": [
       "(1007, 150)"
      ]
     },
     "execution_count": 15,
     "metadata": {},
     "output_type": "execute_result"
    }
   ],
   "source": [
    "dataset.shape"
   ]
  },
  {
   "cell_type": "code",
   "execution_count": 16,
   "metadata": {},
   "outputs": [],
   "source": [
    "def convertSmoking(value):\n",
    "    if(value=='never smoked'):\n",
    "        return 1\n",
    "    elif(value=='tried smoking'):\n",
    "        return 2\n",
    "    elif(value == 'former smoker'):\n",
    "        return 3 \n",
    "    elif(value=='current smoker'):\n",
    "        return 4\n",
    "\n",
    "def convertAlcohol(value):\n",
    "    if(value=='never'):\n",
    "        return 1\n",
    "    elif(value=='social drinker'):\n",
    "        return 2\n",
    "    elif(value == 'drink a lot'):\n",
    "        return 3 \n",
    "    \n",
    "def convertPunctuality(value):\n",
    "    if(value=='i am often running late'):\n",
    "        return 1\n",
    "    elif(value=='i am often early'):\n",
    "        return 2\n",
    "    elif(value == 'i am always on time'):\n",
    "        return 3 \n",
    "\n",
    "def convertLying(value):\n",
    "    if(value=='never'):\n",
    "        return 1\n",
    "    elif(value=='sometimes'):\n",
    "        return 2\n",
    "    elif(value == 'only to avoid hurting someone'):\n",
    "        return 3 \n",
    "    elif(value == 'everytime it suits me'):\n",
    "        return 4\n",
    "\n",
    "def convertInternetUsage(value):\n",
    "    if(value=='few hours a day'):\n",
    "        return 3\n",
    "    elif(value=='less than an hour a day'):\n",
    "        return 2\n",
    "    elif(value == 'most of the day'):\n",
    "        return 4 \n",
    "    elif(value == 'no time at all'):\n",
    "        return 1\n",
    "\n",
    "def convertEducation(value):\n",
    "    if(value=='currently a primary school pupil'):\n",
    "        return 1\n",
    "    elif(value=='primary school'):\n",
    "        return 2\n",
    "    elif(value == 'secondary school'):\n",
    "        return 3\n",
    "    elif(value == 'college/bachelor degree'):\n",
    "        return 4\n",
    "    elif(value == 'masters degree'):\n",
    "        return 5\n",
    "    elif(value == 'doctorate degree'):\n",
    "        return 6"
   ]
  },
  {
   "cell_type": "code",
   "execution_count": 17,
   "metadata": {},
   "outputs": [],
   "source": [
    "dataset['Smoking'] = dataset.Smoking.apply(convertSmoking)\n",
    "dataset['Alcohol'] = dataset.Alcohol.apply(convertAlcohol)\n",
    "dataset['Lying'] = dataset.Lying.apply(convertLying)\n",
    "dataset['Punctuality'] = dataset.Punctuality.apply(convertPunctuality)\n",
    "dataset['Education'] = dataset.Education.apply(convertEducation)\n",
    "dataset['Internet usage'] = dataset['Internet usage'].apply(convertInternetUsage)"
   ]
  },
  {
   "cell_type": "code",
   "execution_count": 18,
   "metadata": {},
   "outputs": [],
   "source": [
    "def GenderConversion(value):\n",
    "    if value=='male':\n",
    "        return 1\n",
    "    elif value == 'female':\n",
    "        return 0\n",
    "\n",
    "def OnlyChildConversion(value):\n",
    "    if value=='yes':\n",
    "        return 1\n",
    "    elif value == 'no':\n",
    "        return 0\n",
    "    \n",
    "def LRHandedConversion(value):\n",
    "    if value=='right handed':\n",
    "        return 0\n",
    "    elif value == 'left handed':\n",
    "        return 1\n",
    "\n",
    "def VillageTownConversion(value):\n",
    "    if value=='city':\n",
    "        return 0\n",
    "    elif value == 'village':\n",
    "        return 1\n",
    "\n",
    "def HouseBoFlatsConversion(value):\n",
    "    if value=='house/bungalow':\n",
    "        return 1\n",
    "    elif value == 'block of flats':\n",
    "        return 0\n",
    "\n",
    "def Range1_5ValuesConversion(value):\n",
    "    if value==4 or value==5:\n",
    "        return 1\n",
    "    elif value == 1 or value == 2 or value == 3:\n",
    "        return 0"
   ]
  },
  {
   "cell_type": "code",
   "execution_count": 19,
   "metadata": {},
   "outputs": [],
   "source": [
    "dataset['Gender'] = dataset['Gender'].apply(GenderConversion)\n",
    "dataset['Only child'] = dataset['Only child'].apply(OnlyChildConversion)\n",
    "dataset['Left - right handed'] = dataset['Left - right handed'].apply(LRHandedConversion)\n",
    "dataset['Village - town'] = dataset['Village - town'].apply(VillageTownConversion)\n",
    "dataset['House - block of flats'] = dataset['House - block of flats'].apply(HouseBoFlatsConversion)\n",
    "dataset['Empathy'] = dataset['Empathy'].apply(Range1_5ValuesConversion)"
   ]
  },
  {
   "cell_type": "code",
   "execution_count": null,
   "metadata": {},
   "outputs": [],
   "source": [
    "print(\"encoding attributes...\")"
   ]
  },
  {
   "cell_type": "markdown",
   "metadata": {},
   "source": [
    "# Missing values analysis"
   ]
  },
  {
   "cell_type": "code",
   "execution_count": 20,
   "metadata": {},
   "outputs": [
    {
     "data": {
      "text/html": [
       "<div>\n",
       "<style scoped>\n",
       "    .dataframe tbody tr th:only-of-type {\n",
       "        vertical-align: middle;\n",
       "    }\n",
       "\n",
       "    .dataframe tbody tr th {\n",
       "        vertical-align: top;\n",
       "    }\n",
       "\n",
       "    .dataframe thead th {\n",
       "        text-align: right;\n",
       "    }\n",
       "</style>\n",
       "<table border=\"1\" class=\"dataframe\">\n",
       "  <thead>\n",
       "    <tr style=\"text-align: right;\">\n",
       "      <th></th>\n",
       "      <th>Missing Ratio</th>\n",
       "    </tr>\n",
       "  </thead>\n",
       "  <tbody>\n",
       "    <tr>\n",
       "      <th>Weight</th>\n",
       "      <td>1.986097</td>\n",
       "    </tr>\n",
       "    <tr>\n",
       "      <th>Height</th>\n",
       "      <td>1.886792</td>\n",
       "    </tr>\n",
       "    <tr>\n",
       "      <th>Passive sport</th>\n",
       "      <td>1.489573</td>\n",
       "    </tr>\n",
       "    <tr>\n",
       "      <th>Chemistry</th>\n",
       "      <td>0.993049</td>\n",
       "    </tr>\n",
       "    <tr>\n",
       "      <th>Geography</th>\n",
       "      <td>0.893744</td>\n",
       "    </tr>\n",
       "    <tr>\n",
       "      <th>Theatre</th>\n",
       "      <td>0.794439</td>\n",
       "    </tr>\n",
       "    <tr>\n",
       "      <th>Latino</th>\n",
       "      <td>0.794439</td>\n",
       "    </tr>\n",
       "    <tr>\n",
       "      <th>Smoking</th>\n",
       "      <td>0.794439</td>\n",
       "    </tr>\n",
       "    <tr>\n",
       "      <th>Documentary</th>\n",
       "      <td>0.794439</td>\n",
       "    </tr>\n",
       "    <tr>\n",
       "      <th>Punk</th>\n",
       "      <td>0.794439</td>\n",
       "    </tr>\n",
       "    <tr>\n",
       "      <th>Classical music</th>\n",
       "      <td>0.695134</td>\n",
       "    </tr>\n",
       "    <tr>\n",
       "      <th>Gardening</th>\n",
       "      <td>0.695134</td>\n",
       "    </tr>\n",
       "    <tr>\n",
       "      <th>Criminal damage</th>\n",
       "      <td>0.695134</td>\n",
       "    </tr>\n",
       "    <tr>\n",
       "      <th>Alternative</th>\n",
       "      <td>0.695134</td>\n",
       "    </tr>\n",
       "    <tr>\n",
       "      <th>Rock n roll</th>\n",
       "      <td>0.695134</td>\n",
       "    </tr>\n",
       "    <tr>\n",
       "      <th>Countryside, outdoors</th>\n",
       "      <td>0.695134</td>\n",
       "    </tr>\n",
       "    <tr>\n",
       "      <th>Daily events</th>\n",
       "      <td>0.695134</td>\n",
       "    </tr>\n",
       "    <tr>\n",
       "      <th>Compassion to animals</th>\n",
       "      <td>0.695134</td>\n",
       "    </tr>\n",
       "    <tr>\n",
       "      <th>Reggae, Ska</th>\n",
       "      <td>0.695134</td>\n",
       "    </tr>\n",
       "    <tr>\n",
       "      <th>Age</th>\n",
       "      <td>0.695134</td>\n",
       "    </tr>\n",
       "    <tr>\n",
       "      <th>Final judgement</th>\n",
       "      <td>0.695134</td>\n",
       "    </tr>\n",
       "    <tr>\n",
       "      <th>Techno, Trance</th>\n",
       "      <td>0.695134</td>\n",
       "    </tr>\n",
       "    <tr>\n",
       "      <th>Science and technology</th>\n",
       "      <td>0.595829</td>\n",
       "    </tr>\n",
       "    <tr>\n",
       "      <th>Responding to a serious letter</th>\n",
       "      <td>0.595829</td>\n",
       "    </tr>\n",
       "    <tr>\n",
       "      <th>Giving</th>\n",
       "      <td>0.595829</td>\n",
       "    </tr>\n",
       "    <tr>\n",
       "      <th>Movies</th>\n",
       "      <td>0.595829</td>\n",
       "    </tr>\n",
       "    <tr>\n",
       "      <th>Friends versus money</th>\n",
       "      <td>0.595829</td>\n",
       "    </tr>\n",
       "    <tr>\n",
       "      <th>PC</th>\n",
       "      <td>0.595829</td>\n",
       "    </tr>\n",
       "    <tr>\n",
       "      <th>Biology</th>\n",
       "      <td>0.595829</td>\n",
       "    </tr>\n",
       "    <tr>\n",
       "      <th>Reading</th>\n",
       "      <td>0.595829</td>\n",
       "    </tr>\n",
       "  </tbody>\n",
       "</table>\n",
       "</div>"
      ],
      "text/plain": [
       "                                Missing Ratio\n",
       "Weight                               1.986097\n",
       "Height                               1.886792\n",
       "Passive sport                        1.489573\n",
       "Chemistry                            0.993049\n",
       "Geography                            0.893744\n",
       "Theatre                              0.794439\n",
       "Latino                               0.794439\n",
       "Smoking                              0.794439\n",
       "Documentary                          0.794439\n",
       "Punk                                 0.794439\n",
       "Classical music                      0.695134\n",
       "Gardening                            0.695134\n",
       "Criminal damage                      0.695134\n",
       "Alternative                          0.695134\n",
       "Rock n roll                          0.695134\n",
       "Countryside, outdoors                0.695134\n",
       "Daily events                         0.695134\n",
       "Compassion to animals                0.695134\n",
       "Reggae, Ska                          0.695134\n",
       "Age                                  0.695134\n",
       "Final judgement                      0.695134\n",
       "Techno, Trance                       0.695134\n",
       "Science and technology               0.595829\n",
       "Responding to a serious letter       0.595829\n",
       "Giving                               0.595829\n",
       "Movies                               0.595829\n",
       "Friends versus money                 0.595829\n",
       "PC                                   0.595829\n",
       "Biology                              0.595829\n",
       "Reading                              0.595829"
      ]
     },
     "execution_count": 20,
     "metadata": {},
     "output_type": "execute_result"
    }
   ],
   "source": [
    "df_na = (dataset.isnull().sum() / len(dataset)) * 100\n",
    "df_na = df_na.drop(df_na[df_na == 0].index).sort_values(ascending=False)[:30]\n",
    "missing_data = pd.DataFrame({'Missing Ratio': df_na})\n",
    "missing_data"
   ]
  },
  {
   "cell_type": "code",
   "execution_count": 21,
   "metadata": {},
   "outputs": [],
   "source": [
    "dataset = dataset.apply(lambda x: x.fillna(x.median()),axis=0)"
   ]
  },
  {
   "cell_type": "code",
   "execution_count": 22,
   "metadata": {},
   "outputs": [
    {
     "data": {
      "text/plain": [
       "False"
      ]
     },
     "execution_count": 22,
     "metadata": {},
     "output_type": "execute_result"
    }
   ],
   "source": [
    "dataset.isnull().values.any()"
   ]
  },
  {
   "cell_type": "code",
   "execution_count": null,
   "metadata": {},
   "outputs": [],
   "source": [
    "print(\"imputing missing values...\")"
   ]
  },
  {
   "cell_type": "code",
   "execution_count": null,
   "metadata": {},
   "outputs": [],
   "source": [
    "print(\"saving the new preprocessed dataset as 'preprocessedDataset2'\")"
   ]
  },
  {
   "cell_type": "code",
   "execution_count": 23,
   "metadata": {},
   "outputs": [],
   "source": [
    "dataset.to_csv(\"preprocessedDataset2.csv\")"
   ]
  }
 ],
 "metadata": {
  "kernelspec": {
   "display_name": "Python 3",
   "language": "python",
   "name": "python3"
  },
  "language_info": {
   "codemirror_mode": {
    "name": "ipython",
    "version": 3
   },
   "file_extension": ".py",
   "mimetype": "text/x-python",
   "name": "python",
   "nbconvert_exporter": "python",
   "pygments_lexer": "ipython3",
   "version": "3.7.0"
  }
 },
 "nbformat": 4,
 "nbformat_minor": 2
}
